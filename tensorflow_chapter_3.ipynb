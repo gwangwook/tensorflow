{
  "nbformat": 4,
  "nbformat_minor": 0,
  "metadata": {
    "colab": {
      "provenance": [],
      "gpuType": "T4",
      "authorship_tag": "ABX9TyOZB597pqswAkyJOqP+aZS0",
      "include_colab_link": true
    },
    "kernelspec": {
      "name": "python3",
      "display_name": "Python 3"
    },
    "language_info": {
      "name": "python"
    },
    "accelerator": "GPU"
  },
  "cells": [
    {
      "cell_type": "markdown",
      "metadata": {
        "id": "view-in-github",
        "colab_type": "text"
      },
      "source": [
        "<a href=\"https://colab.research.google.com/github/gwangwook/tensorflow/blob/main/tensorflow_chapter_3.ipynb\" target=\"_parent\"><img src=\"https://colab.research.google.com/assets/colab-badge.svg\" alt=\"Open In Colab\"/></a>"
      ]
    },
    {
      "cell_type": "markdown",
      "source": [
        "기본 연산 예제 1) rank(), add(), subtract(), multiply(), divide()"
      ],
      "metadata": {
        "id": "v7HW45TCT4bO"
      }
    },
    {
      "cell_type": "code",
      "execution_count": null,
      "metadata": {
        "colab": {
          "base_uri": "https://localhost:8080/"
        },
        "id": "xadPAOPrR7TL",
        "outputId": "0fac4c04-d45e-4172-93a1-8d294d5b78db"
      },
      "outputs": [
        {
          "output_type": "stream",
          "name": "stdout",
          "text": [
            "tf.Tensor(0, shape=(), dtype=int32)\n",
            "tf.Tensor(0, shape=(), dtype=int32)\n",
            "tf.Tensor(5, shape=(), dtype=int32)\n",
            "tf.Tensor(1, shape=(), dtype=int32)\n",
            "6\n",
            "1.5\n"
          ]
        }
      ],
      "source": [
        "import tensorflow as tf\n",
        "import numpy as np\n",
        "\n",
        "a = tf.constant(3)\n",
        "b = tf.constant(2)\n",
        "\n",
        "# tf.rank() 함수\n",
        "print(tf.rank(a))\n",
        "print(tf.rank(b))\n",
        "\n",
        "# 기본연산\n",
        "# 텐서 형태로 출력해보기\n",
        "print(tf.add(a,b))\n",
        "print(tf.subtract(a,b))\n",
        "\n",
        "# 넘파이 배열 형태로 출력해보기\n",
        "print(tf.multiply(a,b).numpy()) #곱하기\n",
        "print(tf.divide(a,b).numpy()) #나누기\n"
      ]
    },
    {
      "cell_type": "markdown",
      "source": [
        "기본 연산 예제 2) 행렬곱 연산"
      ],
      "metadata": {
        "id": "qdrSRKfAUAIN"
      }
    },
    {
      "cell_type": "code",
      "source": [
        "import tensorflow as tf\n",
        "a = tf.constant([[3,4], [2,1]])\n",
        "b = tf.constant([[1,5], [3,7]])\n",
        "c = tf.constant([[3,5], [4,5]])\n",
        "print(tf.matmul(tf.matmul(a,b), c))\n",
        "\n",
        "d = tf.constant([[3,4,1], [2,3,4]])\n",
        "e = tf.constant([[2,4], [3,5], [6,2]])\n",
        "print(tf.matmul(d,e))\n",
        "\n",
        "f = tf.constant([[3,5,3], [2,1,4], [1,2,1]])\n",
        "g = tf.constant([[1,5,5], [2,3,4], [3,1,2]])\n",
        "print(tf.matmul(f, g))"
      ],
      "metadata": {
        "colab": {
          "base_uri": "https://localhost:8080/"
        },
        "id": "1l22UljqSwYJ",
        "outputId": "ef5422a2-acb6-4b30-b444-c190cf30371f"
      },
      "execution_count": null,
      "outputs": [
        {
          "output_type": "stream",
          "name": "stdout",
          "text": [
            "tf.Tensor(\n",
            "[[217 290]\n",
            " [ 83 110]], shape=(2, 2), dtype=int32)\n",
            "tf.Tensor(\n",
            "[[24 34]\n",
            " [37 31]], shape=(2, 2), dtype=int32)\n",
            "tf.Tensor(\n",
            "[[22 33 41]\n",
            " [16 17 22]\n",
            " [ 8 12 15]], shape=(3, 3), dtype=int32)\n"
          ]
        }
      ]
    },
    {
      "cell_type": "markdown",
      "source": [
        "기본 연산 예제 3) 기본 상수 선언 및 Variable 선언하고 변수를 assign()으로 변경해보기"
      ],
      "metadata": {
        "id": "Q71zstFGUm7-"
      }
    },
    {
      "cell_type": "code",
      "source": [
        "c = tf.constant([1.9, 2.1], dtype=tf.float32) # 상수 텐서 선언, 값 변경 불가\n",
        "d = tf.cast(c, tf.int32)  # c의 원소들을 정수 데이터 타입으로 캐스팅하여 새로운 텐서 d를 생성, 원본 c는 영향 X\n",
        "print(c, d)\n",
        "print(\"\\n\")\n",
        "\n",
        "a = tf.Variable([2.0, 3.0]) # 변수 텐서 a 선언, 값 변경 가능\n",
        "a.assign([1,2]) #assign으로 변경함"
      ],
      "metadata": {
        "colab": {
          "base_uri": "https://localhost:8080/"
        },
        "id": "rAOzmqWDUDWH",
        "outputId": "0d06784e-9368-4138-cc1e-0979c7630625"
      },
      "execution_count": null,
      "outputs": [
        {
          "output_type": "stream",
          "name": "stdout",
          "text": [
            "tf.Tensor([1.9 2.1], shape=(2,), dtype=float32) tf.Tensor([1 2], shape=(2,), dtype=int32)\n",
            "\n",
            "\n"
          ]
        },
        {
          "output_type": "execute_result",
          "data": {
            "text/plain": [
              "<tf.Variable 'UnreadVariable' shape=(2,) dtype=float32, numpy=array([1., 2.], dtype=float32)>"
            ]
          },
          "metadata": {},
          "execution_count": 15
        }
      ]
    },
    {
      "cell_type": "markdown",
      "source": [
        "기본 연산 예제 4) tf.zeros(), tf.ones(), tf.eye()"
      ],
      "metadata": {
        "id": "QxNIDbLEYyde"
      }
    },
    {
      "cell_type": "code",
      "source": [
        "import tensorflow as tf\n",
        "\n",
        "a = tf.zeros([3,4], tf.int32)\n",
        "print(a)\n",
        "print(a.shape)\n",
        "print(a.dtype)\n",
        "print(\"\\n\")\n",
        "\n",
        "print(tf.ones([3,4], tf.int32))\n",
        "print(\"\\n\")\n",
        "\n",
        "tf.eye(4)"
      ],
      "metadata": {
        "colab": {
          "base_uri": "https://localhost:8080/"
        },
        "id": "SoaaV3xzY0Wu",
        "outputId": "cb94727c-77a8-4f9b-d0ba-22e2eb40d19c"
      },
      "execution_count": null,
      "outputs": [
        {
          "output_type": "stream",
          "name": "stdout",
          "text": [
            "tf.Tensor(\n",
            "[[0 0 0 0]\n",
            " [0 0 0 0]\n",
            " [0 0 0 0]], shape=(3, 4), dtype=int32)\n",
            "(3, 4)\n",
            "<dtype: 'int32'>\n",
            "\n",
            "\n",
            "tf.Tensor(\n",
            "[[1 1 1 1]\n",
            " [1 1 1 1]\n",
            " [1 1 1 1]], shape=(3, 4), dtype=int32)\n",
            "\n",
            "\n"
          ]
        },
        {
          "output_type": "execute_result",
          "data": {
            "text/plain": [
              "<tf.Tensor: shape=(4, 4), dtype=float32, numpy=\n",
              "array([[1., 0., 0., 0.],\n",
              "       [0., 1., 0., 0.],\n",
              "       [0., 0., 1., 0.],\n",
              "       [0., 0., 0., 1.]], dtype=float32)>"
            ]
          },
          "metadata": {},
          "execution_count": 18
        }
      ]
    },
    {
      "cell_type": "markdown",
      "source": [
        "기본 연산 예제 5) tf.reshape()"
      ],
      "metadata": {
        "id": "cZAFw_H9aV1d"
      }
    },
    {
      "cell_type": "code",
      "source": [
        "import tensorflow as tf\n",
        "\n",
        "t1 = [[1,2,3], [4,5,6]]\n",
        "print(t1)\n",
        "print(\"\\n\")\n",
        "\n",
        "t2 = tf.reshape(t1,[6])\n",
        "print(t2)\n",
        "print(\"\\n\")\n",
        "\n",
        "t3 = tf.reshape(t2, [3,2])\n",
        "print(t3)"
      ],
      "metadata": {
        "colab": {
          "base_uri": "https://localhost:8080/"
        },
        "id": "WV-Q9qInaL6z",
        "outputId": "066a32dc-20e0-4eb7-8864-6e2ebbc26028"
      },
      "execution_count": null,
      "outputs": [
        {
          "output_type": "stream",
          "name": "stdout",
          "text": [
            "[[1, 2, 3], [4, 5, 6]]\n",
            "\n",
            "\n",
            "tf.Tensor([1 2 3 4 5 6], shape=(6,), dtype=int32)\n",
            "\n",
            "\n",
            "tf.Tensor(\n",
            "[[1 2]\n",
            " [3 4]\n",
            " [5 6]], shape=(3, 2), dtype=int32)\n"
          ]
        }
      ]
    },
    {
      "cell_type": "markdown",
      "source": [
        "기본 연산 예제 6) moatplotlib.pyplot 라이브러리"
      ],
      "metadata": {
        "id": "pXT-YcWjaoFA"
      }
    },
    {
      "cell_type": "code",
      "source": [
        "import matplotlib.pyplot as plt\n",
        "\n",
        "# 기본 plot\n",
        "plt.plot([1,2,3,4]) # x, y 값 따로 지정 안하면 y = x 선형 그래프 출력\n",
        "plt.show()  #그래프 출력\n",
        "\n",
        "plt.plot([1,2,3,4],[1,4,9,16])\n",
        "plt.show()\n",
        "\n",
        "# plot에 x, y 라벨 붙이기\n",
        "plt.plot([1,2,3,4],[2,3,5,10])\n",
        "plt.xlabel('X-Axis')\n",
        "plt.ylabel('Y-Axis')\n",
        "# plt 보여주는 x, y 범위 지정\n",
        "plt.xlim([0, 5])\n",
        "plt.ylim([0, 20])\n",
        "plt.show()"
      ],
      "metadata": {
        "colab": {
          "base_uri": "https://localhost:8080/",
          "height": 1000
        },
        "id": "DqMPdwQcaldo",
        "outputId": "65782559-317c-4a40-e9a9-9ce039313171"
      },
      "execution_count": null,
      "outputs": [
        {
          "output_type": "display_data",
          "data": {
            "text/plain": [
              "<Figure size 640x480 with 1 Axes>"
            ],
            "image/png": "[encoded data removed]"
          },
          "metadata": {}
        },
        {
          "output_type": "display_data",
          "data": {
            "text/plain": [
              "<Figure size 640x480 with 1 Axes>"
            ],
            "image/png": "[encoded data removed]"
          },
          "metadata": {}
        },
        {
          "output_type": "display_data",
          "data": {
            "text/plain": [
              "<Figure size 640x480 with 1 Axes>"
            ],
            "image/png": "[encoded data removed]"
          },
          "metadata": {}
        }
      ]
    },
    {
      "cell_type": "markdown",
      "source": [
        "기본 연산 예제 7) GPU 체크(없으면 에러 출력)"
      ],
      "metadata": {
        "id": "HT8OidgCeO4P"
      }
    },
    {
      "cell_type": "code",
      "source": [
        "import tensorflow as tf\n",
        "device_name = tf.test.gpu_device_name()\n",
        "\n",
        "if device_name != '/device:GPU:0':\n",
        "  raise SystemError('GPU device not found')\n",
        "\n",
        "print('Found GPU at : {}'.format(device_name))"
      ],
      "metadata": {
        "colab": {
          "base_uri": "https://localhost:8080/",
          "height": 221
        },
        "id": "Bxu4QDd7eOrt",
        "outputId": "e6df135c-1883-49b3-f196-99f8a063fd81"
      },
      "execution_count": null,
      "outputs": [
        {
          "output_type": "error",
          "ename": "SystemError",
          "evalue": "GPU device not found",
          "traceback": [
            "\u001b[0;31m---------------------------------------------------------------------------\u001b[0m",
            "\u001b[0;31mSystemError\u001b[0m                               Traceback (most recent call last)",
            "\u001b[0;32m<ipython-input-23-dc12ec8a9d8c>\u001b[0m in \u001b[0;36m<cell line: 4>\u001b[0;34m()\u001b[0m\n\u001b[1;32m      3\u001b[0m \u001b[0;34m\u001b[0m\u001b[0m\n\u001b[1;32m      4\u001b[0m \u001b[0;32mif\u001b[0m \u001b[0mdevice_name\u001b[0m \u001b[0;34m!=\u001b[0m \u001b[0;34m'/device:GPU:0'\u001b[0m\u001b[0;34m:\u001b[0m\u001b[0;34m\u001b[0m\u001b[0;34m\u001b[0m\u001b[0m\n\u001b[0;32m----> 5\u001b[0;31m   \u001b[0;32mraise\u001b[0m \u001b[0mSystemError\u001b[0m\u001b[0;34m(\u001b[0m\u001b[0;34m'GPU device not found'\u001b[0m\u001b[0;34m)\u001b[0m\u001b[0;34m\u001b[0m\u001b[0;34m\u001b[0m\u001b[0m\n\u001b[0m\u001b[1;32m      6\u001b[0m \u001b[0;34m\u001b[0m\u001b[0m\n\u001b[1;32m      7\u001b[0m \u001b[0mprint\u001b[0m\u001b[0;34m(\u001b[0m\u001b[0;34m'Found GPU at : {}'\u001b[0m\u001b[0;34m.\u001b[0m\u001b[0mformat\u001b[0m\u001b[0;34m(\u001b[0m\u001b[0mdevice_name\u001b[0m\u001b[0;34m)\u001b[0m\u001b[0;34m)\u001b[0m\u001b[0;34m\u001b[0m\u001b[0;34m\u001b[0m\u001b[0m\n",
            "\u001b[0;31mSystemError\u001b[0m: GPU device not found"
          ]
        }
      ]
    },
    {
      "cell_type": "markdown",
      "source": [
        "기본 연산 예제 8) 텐서에서 넘파이, 넘파이에서 텐서\n",
        "*   numpy()와 convert_to_tensor() 함수\n",
        "*   tensor와 numpy array간 변환이 매우 유연\n",
        "\n",
        "\n"
      ],
      "metadata": {
        "id": "whWealz1fKJf"
      }
    },
    {
      "cell_type": "code",
      "source": [
        "import tensorflow as tf\n",
        "import numpy as np\n",
        "\n",
        "a = tf.constant(1)\n",
        "b = tf.constant(4)\n",
        "c = tf.add(a, b).numpy() # a와 b를 더한 후 Numpy 배열 형태로 변환\n",
        "c_square = np.square(c, dtype = np.float32)\n",
        "# Numpy 모듈에 존재하는 square 함수 적용\n",
        "c_tensor = tf.convert_to_tensor(c_square) # 다시 텐서로 변환\n",
        "\n",
        "# 넘파이 배열과 텐서 각각을 확인하기 위해 출력\n",
        "print(\"numpy array : %0.1f, applying square with numpy : %0.1f, convert_to_tensor : %0.1f\" % (c,c_square, c_tensor))"
      ],
      "metadata": {
        "colab": {
          "base_uri": "https://localhost:8080/"
        },
        "id": "Luw6tVdJfLdd",
        "outputId": "11c8f565-d705-45c1-d06d-8d91114af4de"
      },
      "execution_count": null,
      "outputs": [
        {
          "output_type": "stream",
          "name": "stdout",
          "text": [
            "numpy array : 5.0, applying square with numpy : 25.0, convert_to_tensor : 25.0\n"
          ]
        }
      ]
    },
    {
      "cell_type": "markdown",
      "source": [
        "신경망 예제 1) 키와 몸무게 예측 (Linear Regression)"
      ],
      "metadata": {
        "id": "HIaRj0kLiSid"
      }
    },
    {
      "cell_type": "code",
      "source": [
        "import tensorflow as tf\n",
        "\n",
        "# 변수 초기화\n",
        "height = 170\n",
        "shoe_size = 260\n",
        "\n",
        "# 회귀 계수 (a)와 절편 (b)를 텐서플로 변수로 선언\n",
        "a = tf.Variable(0.1)\n",
        "b = tf.Variable(0.2)\n",
        "\n",
        "# 손실 함수 정의\n",
        "def loss_function():\n",
        "  predicted_value = height * a + b\n",
        "  return tf.square(shoe_size - predicted_value) # 실제 값과 예측 값의 차이의 제곱을 반환\n",
        "\n",
        "# 옵티마이저 설정\n",
        "opt = tf.keras.optimizers.Adam(learning_rate = 0.1)\n",
        "\n",
        "# 최적화 과정 수행\n",
        "for i in range(300):\n",
        "  # 손실함수를 최소화하는 방향으로 a와 b를 업데이트\n",
        "  opt.minimize(loss_function, var_list = [a, b])\n",
        "  if i % 20 == 0: # 20번의 반복마다 한 번씩 a, b 값 출력\n",
        "    print(f\"Step {i}: a = {a.numpy()}, b = {b.numpy()}\")"
      ],
      "metadata": {
        "colab": {
          "base_uri": "https://localhost:8080/"
        },
        "id": "wqCZHd6ogsQD",
        "outputId": "bf4188c2-de21-4e01-a7f1-281917545d0a"
      },
      "execution_count": null,
      "outputs": [
        {
          "output_type": "stream",
          "name": "stdout",
          "text": [
            "Step 0: a = 0.1999993473291397, b = 0.29999932646751404\n",
            "Step 20: a = 1.7321277856826782, b = 1.8321280479431152\n",
            "Step 40: a = 1.5274542570114136, b = 1.627454400062561\n",
            "Step 60: a = 1.5008234977722168, b = 1.6008236408233643\n",
            "Step 80: a = 1.5277165174484253, b = 1.6277167797088623\n",
            "Step 100: a = 1.5181424617767334, b = 1.6181427240371704\n",
            "Step 120: a = 1.5196453332901, b = 1.619645595550537\n",
            "Step 140: a = 1.5203864574432373, b = 1.6203867197036743\n",
            "Step 160: a = 1.5195881128311157, b = 1.6195883750915527\n",
            "Step 180: a = 1.5199757814407349, b = 1.6199760437011719\n",
            "Step 200: a = 1.519879937171936, b = 1.619880199432373\n",
            "Step 220: a = 1.519871711730957, b = 1.619871973991394\n",
            "Step 240: a = 1.519887089729309, b = 1.619887351989746\n",
            "Step 260: a = 1.519883632659912, b = 1.6198838949203491\n",
            "Step 280: a = 1.5198824405670166, b = 1.6198827028274536\n"
          ]
        }
      ]
    },
    {
      "cell_type": "markdown",
      "source": [
        "신경망 예제 2) 리스트 훈련데이터 (Linear Regression)"
      ],
      "metadata": {
        "id": "JguSc4-knnhT"
      }
    },
    {
      "cell_type": "code",
      "source": [
        "import tensorflow as tf\n",
        "\n",
        "# 리스트 훈련데이터\n",
        "train_x = [1, 2, 3, 4, 5, 6, 7]\n",
        "train_y = [3, 5, 7, 9, 11, 13, 15]\n",
        "\n",
        "# 모델 파라미터 초기화 (기울기 a와 절편 b)\n",
        "a = tf.Variable(0.1)\n",
        "b = tf.Variable(0.1)\n",
        "\n",
        "def loss_function():\n",
        "  predicted_y = train_x * a + b\n",
        "  return tf.keras.losses.mse(train_y, predicted_y)\n",
        "\n",
        "# 최적화 설정\n",
        "opt1 = tf.keras.optimizers.Adam(learning_rate = 0.1)\n",
        "opt2 = tf.keras.optimizers.Adam(learning_rate = 0.001)\n",
        "\n",
        "for i in range(300):\n",
        "  opt1.minimize(loss_function, var_list = [a, b])\n",
        "  print(a.numpy(), b.numpy())\n",
        "\n",
        "print(\"\\n\")\n",
        "\n",
        "for i in range(300):\n",
        "  opt2.minimize(loss_function, var_list = [a, b])\n",
        "  print(a.numpy(), b.numpy())"
      ],
      "metadata": {
        "id": "CmowDkEynrN0"
      },
      "execution_count": null,
      "outputs": []
    },
    {
      "cell_type": "markdown",
      "source": [
        "신경망 예제 3) 퍼셉트론 OR 게이트"
      ],
      "metadata": {
        "id": "JOZOi5LNr8ZG"
      }
    },
    {
      "cell_type": "code",
      "source": [
        "import tensorflow as tf\n",
        "tf.random.set_seed(777) # 시드 설정 (실험의 재생산성)\n",
        "# 시드 설정함으로써 재현 가능한 결과 얻기 위\n",
        "import numpy as np\n",
        "from keras.models import Sequential\n",
        "from keras.layers import Dense\n",
        "from keras.optimizers import SGD\n",
        "from keras.losses import mse\n",
        "\n",
        "# 데이터 준비\n",
        "x = np.array([[0,0], [1,0], [0,1], [1,1]])\n",
        "y = np.array([[0], [1], [1], [1]])\n",
        "\n",
        "# 모델 구성\n",
        "model = Sequential()\n",
        "# 단층 퍼셉트론을 구성\n",
        "model.add(Dense(1, input_shape=(2,), activation = 'linear'))\n",
        "\n",
        "# 모델 준비\n",
        "model.compile(optimizer=SGD(), loss = mse, metrics = ['acc'])  # list 형태로 평가지표를 전달\n",
        "              # 성능 가장 좋은 optimizer 찾고, loss를 최소화 시키기(출력), acc는 정확도(출력)\n",
        "\n",
        "# 학습시키기\n",
        "model.fit(x, y, epochs = 500)"
      ],
      "metadata": {
        "id": "7JxOp91Gr8t1"
      },
      "execution_count": null,
      "outputs": []
    },
    {
      "cell_type": "markdown",
      "source": [
        "신경망 예제 4) 퍼셉트론 AND 게이트"
      ],
      "metadata": {
        "id": "liH0GauFvs33"
      }
    },
    {
      "cell_type": "code",
      "source": [
        "import tensorflow as tf\n",
        "tf.random.set_seed(777) # 시드 설정 (실험의 재생산성)\n",
        "# 시드 설정함으로써 재현 가능한 결과 얻기 위\n",
        "import numpy as np\n",
        "from keras.models import Sequential\n",
        "from keras.layers import Dense\n",
        "from keras.optimizers import SGD\n",
        "from keras.losses import mse\n",
        "\n",
        "# 데이터 준비\n",
        "x = np.array([[0,0], [1,0], [0,1], [1,1]])\n",
        "y = np.array([[0], [0], [0], [1]])\n",
        "\n",
        "# 모델 구성\n",
        "model = Sequential()\n",
        "# 단층 퍼셉트론을 구성\n",
        "model.add(Dense(1, input_shape=(2,), activation = 'linear'))\n",
        "\n",
        "# 모델 준비\n",
        "model.compile(optimizer=SGD(), loss = mse, metrics = ['acc'])  # list 형태로 평가지표를 전달\n",
        "              # 성능 가장 좋은 optimizer 찾고, loss를 최소화 시키기(출력), acc는 정확도(출력)\n",
        "\n",
        "# 학습시키기\n",
        "model.fit(x, y, epochs = 500)"
      ],
      "metadata": {
        "id": "lS92otlcvwlm"
      },
      "execution_count": null,
      "outputs": []
    },
    {
      "cell_type": "markdown",
      "source": [
        "신경망 예제 5) 퍼셉트론 NAND 게이트"
      ],
      "metadata": {
        "id": "xBjorYx0wNiA"
      }
    },
    {
      "cell_type": "code",
      "source": [
        "import tensorflow as tf\n",
        "tf.random.set_seed(777) # 시드 설정 (실험의 재생산성)\n",
        "# 시드 설정함으로써 재현 가능한 결과 얻기 위\n",
        "import numpy as np\n",
        "from keras.models import Sequential\n",
        "from keras.layers import Dense\n",
        "from keras.optimizers import SGD\n",
        "from keras.losses import mse\n",
        "\n",
        "# 데이터 준비\n",
        "x = np.array([[0,0], [1,0], [0,1], [1,1]])\n",
        "y = np.array([[1], [1], [1], [0]])\n",
        "\n",
        "# 모델 구성\n",
        "model = Sequential()\n",
        "# 단층 퍼셉트론을 구성\n",
        "model.add(Dense(1, input_shape=(2,), activation = 'linear'))\n",
        "\n",
        "# 모델 준비\n",
        "model.compile(optimizer=SGD(), loss = mse, metrics = ['acc'])  # list 형태로 평가지표를 전달\n",
        "              # 성능 가장 좋은 optimizer 찾고, loss를 최소화 시키기(출력), acc는 정확도(출력)\n",
        "\n",
        "# 학습시키기\n",
        "model.fit(x, y, epochs = 500)"
      ],
      "metadata": {
        "id": "s-W0skU3wOI-"
      },
      "execution_count": null,
      "outputs": []
    },
    {
      "cell_type": "markdown",
      "source": [
        "신경망 예제 6) XOR 게이트는 퍼셉트론으로 해결할 수 없다(확실히 구분할 수 없다)"
      ],
      "metadata": {
        "id": "5hlTtS2MwhFF"
      }
    },
    {
      "cell_type": "code",
      "source": [
        "import tensorflow as tf\n",
        "tf.random.set_seed(777) # 시드 설정 (실험의 재생산성)\n",
        "# 시드 설정함으로써 재현 가능한 결과 얻기 위\n",
        "import numpy as np\n",
        "from keras.models import Sequential\n",
        "from keras.layers import Dense\n",
        "from keras.optimizers import SGD\n",
        "from keras.losses import mse\n",
        "\n",
        "# 데이터 준비\n",
        "x = np.array([[0,0], [1,0], [0,1], [1,1]])\n",
        "y = np.array([[0], [1], [1], [0]])\n",
        "\n",
        "# 모델 구성\n",
        "model = Sequential()\n",
        "# 단층 퍼셉트론을 구성\n",
        "model.add(Dense(1, input_shape=(2,), activation = 'linear'))\n",
        "\n",
        "# 모델 준비\n",
        "model.compile(optimizer=SGD(), loss = mse, metrics = ['acc'])  # list 형태로 평가지표를 전달\n",
        "              # 성능 가장 좋은 optimizer 찾고, loss를 최소화 시키기(출력), acc는 정확도(출력)\n",
        "\n",
        "# 학습시키기\n",
        "model.fit(x, y, epochs = 500)"
      ],
      "metadata": {
        "id": "F1euK9-ywiMH"
      },
      "execution_count": null,
      "outputs": []
    },
    {
      "cell_type": "markdown",
      "source": [
        "신경망 예제 7) 다층 퍼셉트론 - XOR 게이트"
      ],
      "metadata": {
        "id": "fBXZ9tALxcFO"
      }
    },
    {
      "cell_type": "code",
      "source": [
        "import tensorflow as tf\n",
        "tf.random.set_seed(777) # 시드 설정 (실험의 재생산성)\n",
        "# 시드 설정함으로써 재현 가능한 결과 얻기 위\n",
        "import numpy as np\n",
        "from keras.models import Sequential\n",
        "from keras.layers import Dense\n",
        "from keras.optimizers import RMSprop\n",
        "from keras.losses import mse\n",
        "\n",
        "data = np.array([[0,0], [1,0], [0,1], [1,1]])\n",
        "label = np.array([[0], [1], [1], [0]])\n",
        "\n",
        "# 모델 구성\n",
        "model = Sequential()\n",
        "# 다층 퍼셉트론을 구성\n",
        "model.add(Dense(32, input_shape = (2,), activation = 'relu'))\n",
        "model.add(Dense(1, activation = 'sigmoid'))\n",
        "\n",
        "# 모델 준비\n",
        "model.compile(optimizer=RMSprop(), loss = mse, metrics = ['acc'])  # list 형태로 평가지표를 전달\n",
        "              # 성능 가장 좋은 optimizer 찾고, loss를 최소화 시키기(출력), acc는 정확도(출력)\n",
        "\n",
        "# 학습시키기\n",
        "model.fit(x, y, epochs = 1000)"
      ],
      "metadata": {
        "id": "MrH3TzQyxhCl"
      },
      "execution_count": null,
      "outputs": []
    },
    {
      "cell_type": "markdown",
      "source": [
        "활성화 함수 예제 1) 활성화 함수 구현해보기\n",
        "\n",
        "*   sigmoid()\n",
        "*   tanh()\n",
        "*   relu()\n",
        "*   ricky_relu()\n",
        "\n",
        "\n",
        "\n",
        "\n",
        "\n",
        "\n"
      ],
      "metadata": {
        "id": "ri1rSzSlzs-N"
      }
    },
    {
      "cell_type": "code",
      "source": [
        "import numpy as np\n",
        "import matplotlib.pyplot as plt\n",
        "import math\n",
        "\n",
        "def sigmoid(x):\n",
        "  return 1/(1+np.exp(-x))\n",
        "\n",
        "def tanh(x):\n",
        "  return list(map(lambda x : math.tanh(x),x))\n",
        "\n",
        "def relu(x):\n",
        "  result = []\n",
        "  for ele in x:\n",
        "    if(ele <= 0):\n",
        "      result.append(0)\n",
        "    else:\n",
        "      result.append(ele)\n",
        "  return result\n",
        "\n",
        "def leaky_relu(x, alpha=0.1):\n",
        "  return [max(ele, alpha * ele) for ele in x]\n",
        "\n",
        "x = np.linspace(-4, 4, 100)\n",
        "# print(x)\n",
        "sig = sigmoid(x)\n",
        "th = tanh(x)\n",
        "rl = relu(x)\n",
        "leaky = leaky_relu(x)\n",
        "plt.plot(x, sig, color = 'red', label = 'sigmoid')\n",
        "plt.plot(x, th, color = 'yellow', label = 'tanh')\n",
        "plt.plot(x, rl, color = 'blue', label = 'relu')\n",
        "plt.plot(x, leaky, color = 'green', label = 'Leaky_relu')\n",
        "plt.legend()\n",
        "plt.show()"
      ],
      "metadata": {
        "colab": {
          "base_uri": "https://localhost:8080/",
          "height": 430
        },
        "id": "XWrl7HxL0BoI",
        "outputId": "c06925e9-2998-4b88-fdcb-a556d5838cf7"
      },
      "execution_count": null,
      "outputs": [
        {
          "output_type": "display_data",
          "data": {
            "text/plain": [
              "<Figure size 640x480 with 1 Axes>"
            ],
            "image/png": "[encoded data removed]"
          },
          "metadata": {}
        }
      ]
    },
    {
      "cell_type": "markdown",
      "source": [
        "경사하강법 예제 1) 경사하강법 구현해보기"
      ],
      "metadata": {
        "id": "OBaLo357nLHW"
      }
    },
    {
      "cell_type": "code",
      "source": [
        "# 경사하강법 실습\n",
        "import numpy as np\n",
        "import matplotlib.pyplot as plt\n",
        "\n",
        "lr_list = [0.001, 0.01, 0.1, 0.2, 0.5, 0.9]\n",
        "\n",
        "def get_derivative(lr):\n",
        "  w_old = 2\n",
        "  derivative = [w_old]\n",
        "  y = [w_old ** 2]\n",
        "  for i in range(1,10):\n",
        "    dev_value = w_old * 2\n",
        "    w_new = w_old - lr * dev_value\n",
        "    w_old = w_new\n",
        "    derivative.append(w_old)\n",
        "    y.append(w_old ** 2)\n",
        "  return derivative, y\n",
        "\n",
        "x = np.linspace(-2, 2, 50)\n",
        "x_square = [i**2 for i in x]\n",
        "fig = plt.figure(figsize=(9,5))\n",
        "for i, lr in enumerate(lr_list):\n",
        "  derivative, y = get_derivative(lr)\n",
        "  ax = fig.add_subplot(2,3,i+1)\n",
        "  ax.scatter(derivative, y, color='red')\n",
        "  ax.plot(x,x_square)\n",
        "  ax.title.set_text('lr =' + str(lr))\n",
        "  plt.xlabel('weight')\n",
        "  plt.ylabel('loss')\n",
        "\n",
        "plt.tight_layout()\n",
        "plt.show()"
      ],
      "metadata": {
        "colab": {
          "base_uri": "https://localhost:8080/",
          "height": 507
        },
        "id": "OdhfDGautqiD",
        "outputId": "987cbbfa-ae70-4b15-c9b8-ffe7db396f59"
      },
      "execution_count": null,
      "outputs": [
        {
          "output_type": "display_data",
          "data": {
            "text/plain": [
              "<Figure size 900x500 with 6 Axes>"
            ],
            "image/png": "[encoded data removed]"
          },
          "metadata": {}
        }
      ]
    },
    {
      "cell_type": "markdown",
      "source": [
        "태운_추가) 사이킷런을 이용한 확률적 경사 하강법 적용"
      ],
      "metadata": {
        "id": "i-vMh0c_1MEc"
      }
    },
    {
      "cell_type": "code",
      "source": [
        "import pandas as pd # 판다스 데이터 프레임\n",
        "from sklearn.model_selection import train_test_split # 세트 나누기 위한 모듈\n",
        "from sklearn.preprocessing import StandardScaler # 전처리 모듈\n",
        "from sklearn.linear_model import SGDClassifier # 확률적 경사 하강법 모듈\n",
        "fish = pd.read_csv('https://bit.ly/fish_csv_data')\n",
        "\n",
        "fish_input = fish[['Weight','Length','Diagonal','Height','Width']].to_numpy()\n",
        "fish_target = fish['Species'].to_numpy()\n",
        "\n",
        "\n",
        "train_input, test_input, train_target, test_target = train_test_split(fish_input, fish_target, random_state=42)\n",
        "\n",
        "ss = StandardScaler()\n",
        "ss.fit(train_input)\n",
        "train_scaled = ss.transform(train_input)\n",
        "test_scaled = ss.transform(test_input)\n",
        "\n",
        "\n",
        "sc = SGDClassifier(loss='log_loss', max_iter=10, random_state=42)\n",
        "sc.fit(train_scaled, train_target)\n",
        "\n",
        "print(sc.score(train_scaled, train_target))\n",
        "print(sc.score(test_scaled, test_target))\n",
        "\n",
        "sc.partial_fit(train_scaled, train_target)\n",
        "\n",
        "print(sc.score(train_scaled, train_target))\n",
        "print(sc.score(test_scaled, test_target))"
      ],
      "metadata": {
        "colab": {
          "base_uri": "https://localhost:8080/"
        },
        "id": "xyIs4v-y1L31",
        "outputId": "c4ffbff9-d171-469e-cc59-2e37da88ee76"
      },
      "execution_count": null,
      "outputs": [
        {
          "output_type": "stream",
          "name": "stdout",
          "text": [
            "0.773109243697479\n",
            "0.775\n",
            "0.8151260504201681\n",
            "0.85\n"
          ]
        },
        {
          "output_type": "stream",
          "name": "stderr",
          "text": [
            "/usr/local/lib/python3.10/dist-packages/sklearn/linear_model/_stochastic_gradient.py:702: ConvergenceWarning: Maximum number of iteration reached before convergence. Consider increasing max_iter to improve the fit.\n",
            "  warnings.warn(\n"
          ]
        }
      ]
    }
  ]
}